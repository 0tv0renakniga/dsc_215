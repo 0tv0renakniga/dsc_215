{
 "cells": [
  {
   "cell_type": "markdown",
   "metadata": {},
   "source": [
    "### Add all stats calculations where it references R, python, etc."
   ]
  },
  {
   "cell_type": "code",
   "execution_count": 7,
   "metadata": {},
   "outputs": [],
   "source": [
    "# import libraries\n",
    "import scipy"
   ]
  },
  {
   "cell_type": "markdown",
   "metadata": {},
   "source": [
    "#### Calculate Probability of z-score (right tail)\n",
    "<center>\n",
    "\n",
    "##### $P(Z>z_{score}) = 1 - P(Z<z_{score})$\n",
    "\n",
    "</center>"
   ]
  },
  {
   "cell_type": "code",
   "execution_count": null,
   "metadata": {},
   "outputs": [
    {
     "name": "stdout",
     "output_type": "stream",
     "text": [
      "p_score (right-tailed): 0.404933\n"
     ]
    }
   ],
   "source": [
    "# calc prob(z_score) using scipy\n",
    "def calc_p_score_right(z_score):\n",
    "    p_score = 1 - scipy.stats.norm.cdf(z_score)\n",
    "    print(f'p_score (right-tailed): {p_score:.6f}')\n",
    "    return p_score\n",
    "z_score = 0.2406\n",
    "p_score_right = calc_p_score_right(z_score)"
   ]
  },
  {
   "cell_type": "markdown",
   "metadata": {},
   "source": [
    "#### Calculate Probability of z-score (left tail)\n",
    "<center>\n",
    "\n",
    "##### $P(Z<z_{score})$\n",
    "\n",
    "</center>"
   ]
  },
  {
   "cell_type": "code",
   "execution_count": null,
   "metadata": {},
   "outputs": [
    {
     "name": "stdout",
     "output_type": "stream",
     "text": [
      "p_score: 0.4087\n"
     ]
    }
   ],
   "source": [
    "# from mod4\n",
    "def calc_p_score_left(z_score):\n",
    "    p_score = scipy.stats.norm.cdf(z_score)\n",
    "    print(f'p_score: {p_score:.4f}')\n",
    "    return p_score\n",
    "z_score = -0.231\n",
    "p_score_left = calc_p_score_left(z_score)"
   ]
  },
  {
   "cell_type": "markdown",
   "metadata": {},
   "source": [
    "#### Calculate Probability of z-score (two tail)\n",
    "<center>\n",
    "\n",
    "##### $P(|Z|>z_{score})$\n",
    "\n",
    "</center>"
   ]
  },
  {
   "cell_type": "code",
   "execution_count": null,
   "metadata": {},
   "outputs": [
    {
     "name": "stdout",
     "output_type": "stream",
     "text": [
      "p_score (two-tailed): 0.00001981\n"
     ]
    }
   ],
   "source": [
    "# from mod7\n",
    "def calc_p_score_two_tail(z_score):\n",
    "    p_score = 2*(1 - scipy.stats.norm.cdf(z_score))\n",
    "    print(f'p_score (two-tailed): {p_score:.8f}')\n",
    "    return p_score\n",
    "z_score = 4.267\n",
    "p_score_right = calc_p_score_two_tail(z_score)"
   ]
  },
  {
   "cell_type": "markdown",
   "metadata": {},
   "source": [
    "#### Calculate z-star for confidence interval (given probability find z-score..)\n",
    "- $ci$: confidence interval\n",
    "- $\\alpha$: significance level\n",
    "    - $\\alpha = 1- ci$\n",
    "- $\\Phi^{-1}$: inverse of normal cumulative density function(CDF)\n",
    "<center>\n",
    "\n",
    "##### $z^{*} = \\Phi^{-1}(ci)$\n",
    "\n",
    "</center>"
   ]
  },
  {
   "cell_type": "code",
   "execution_count": null,
   "metadata": {},
   "outputs": [
    {
     "name": "stdout",
     "output_type": "stream",
     "text": [
      "z_star: 2.5758\n"
     ]
    }
   ],
   "source": [
    "# from mod5\n",
    "def calc_z_star(ci):\n",
    "    z_star = scipy.stats.norm.ppf((1 + ci) / 2)\n",
    "    print(f'z_star: {z_star:.4f}')\n",
    "    return z_star\n",
    "z_star = calc_z_star(0.99)"
   ]
  },
  {
   "cell_type": "markdown",
   "metadata": {},
   "source": [
    "#### Calculate p-value given t-score or t-value or test statistic\n",
    "- $t$: test statistic\n",
    "- $df$: degrees of freedom\n",
    "\n",
    "<center>\n",
    "\n",
    "##### $p_{value} = P(T_{df}>t)$\n",
    "\n",
    "</center>"
   ]
  },
  {
   "cell_type": "code",
   "execution_count": 24,
   "metadata": {},
   "outputs": [
    {
     "name": "stdout",
     "output_type": "stream",
     "text": [
      "p-value: 0.0522\n"
     ]
    }
   ],
   "source": [
    "# replace with R code pf(1.655, 49, lower.tail = FALSE) in mod 9\n",
    "def calc_p_value_from_t_value_right_tail(test_statistic,df):\n",
    "    p_value = 1 - scipy.stats.t.cdf(test_statistic,df)\n",
    "    print(f'p-value: {p_value:.4f}')\n",
    "    return p_value\n",
    "\n",
    "df = 49\n",
    "test_statistic = 1.655\n",
    "calc_p_value_from_t_value_right_tail = calc_p_value_from_t_value_right_tail(test_statistic,df)"
   ]
  },
  {
   "cell_type": "markdown",
   "metadata": {},
   "source": [
    "#### Calculate p-value given F-ratio\n",
    "- $df_{MSG}$: degrees of freedom for Mean Squared between Groups (MSG)\n",
    "- $df_{MSE}$: degrees of freedom for Mean Squared Error (MSE)\n",
    "- $F_{ratio}$: F-ratio\n",
    "<center>\n",
    "\n",
    "##### $P(F\\geq F_{ratio})$\n",
    "\n",
    "</center>"
   ]
  },
  {
   "cell_type": "code",
   "execution_count": null,
   "metadata": {},
   "outputs": [
    {
     "name": "stdout",
     "output_type": "stream",
     "text": [
      "p_score (F-ratio): 0.2753\n"
     ]
    }
   ],
   "source": [
    "# replace with R code pf(1.439, 2, 12, lower.tail = FALSE) in mod 10\n",
    "def calculate_p_value_f_ratio(f_ratio, df_msg, df_mse):\n",
    "    p_score = 1 - scipy.stats.f.cdf(f_ratio, df_msg, df_mse)\n",
    "    print(f'p_score (F-ratio): {p_score:.4f}')\n",
    "    return p_score\n",
    "\n",
    "f_ratio = 1.439\n",
    "df_msg = 2\n",
    "df_mse= 15\n",
    "p_value_f_ratio = calculate_p_value_f_ratio(f_ratio, df_msg, df_mse)\n"
   ]
  }
 ],
 "metadata": {
  "kernelspec": {
   "display_name": "ucsd",
   "language": "python",
   "name": "python3"
  },
  "language_info": {
   "codemirror_mode": {
    "name": "ipython",
    "version": 3
   },
   "file_extension": ".py",
   "mimetype": "text/x-python",
   "name": "python",
   "nbconvert_exporter": "python",
   "pygments_lexer": "ipython3",
   "version": "3.12.3"
  }
 },
 "nbformat": 4,
 "nbformat_minor": 2
}
