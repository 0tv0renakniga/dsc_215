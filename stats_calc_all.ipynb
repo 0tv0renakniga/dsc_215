{
 "cells": [
  {
   "cell_type": "markdown",
   "metadata": {},
   "source": [
    "### Add all stats calculations where it references R"
   ]
  },
  {
   "cell_type": "code",
   "execution_count": 83,
   "metadata": {},
   "outputs": [],
   "source": [
    "# import libraries\n",
    "import scipy\n",
    "import numpy as np"
   ]
  },
  {
   "cell_type": "markdown",
   "metadata": {},
   "source": [
    "### Module 5\n",
    "*standard erorr for sample size, interpreting confidence intervals, calc $z^{*}$ given CI, prob that Z is between two values*$P(z_{1}<Z<z_{2})$\n",
    "\n",
    "$\\hat p$ is for sample size"
   ]
  },
  {
   "cell_type": "markdown",
   "metadata": {},
   "source": [
    "#### Mod 5: Standard Error\n",
    "- $\\hat{p}$: sample proportion\n",
    "- $n$: sample size\n",
    "$$\n",
    "SE = \\sqrt{\\frac{\\hat{p}(1-\\hat{p})}{n}}\n",
    "$$"
   ]
  },
  {
   "cell_type": "code",
   "execution_count": null,
   "metadata": {},
   "outputs": [],
   "source": [
    "# calc SE"
   ]
  },
  {
   "cell_type": "markdown",
   "metadata": {},
   "source": [
    "### Mod 5: can we use sample?\n",
    "1. check independence\n",
    "    - are samples *randomly* selected\n",
    "2. check success failure\n",
    "    - $n \\hat{p} \\geq 10$\n",
    "    - $n (1- \\hat{p}) \\geq 10 $\n",
    "\n",
    "- if both met then sample is good and we can use normal dist to estimate\n"
   ]
  },
  {
   "cell_type": "code",
   "execution_count": null,
   "metadata": {},
   "outputs": [],
   "source": [
    "# S-F calc\n"
   ]
  },
  {
   "cell_type": "markdown",
   "metadata": {},
   "source": [
    "### Mod 5: Construct Interval:\n",
    "-$Z^{*}_{CL}$: zscore at certain confidence level\n",
    "- $\\hat{p}$: sample proportion\n",
    "- $SE_{\\hat{p}}$: standard error for the sample proportion\n",
    "$$\n",
    "CI = \\left(\\hat{p}-z^{*}SE_{\\hat{p}} , \\hat{p}+z^{*}SE_{\\hat{p}}\\right)\n",
    "$$"
   ]
  },
  {
   "cell_type": "code",
   "execution_count": null,
   "metadata": {},
   "outputs": [],
   "source": [
    "# calc interval given confidence level"
   ]
  },
  {
   "cell_type": "markdown",
   "metadata": {},
   "source": [
    "### Mod 5: Interpret Confidence Intervals"
   ]
  },
  {
   "cell_type": "markdown",
   "metadata": {},
   "source": [
    "### Mod 5: Margin of Error (MOE)\n",
    "$$\n",
    "MOE = z^{*}\\times SE \\ni SE = \\sqrt{\\frac{\\hat{p}(1-\\hat{p})}{n}}\n",
    "$$"
   ]
  },
  {
   "cell_type": "code",
   "execution_count": null,
   "metadata": {},
   "outputs": [],
   "source": [
    "# calc MOE"
   ]
  },
  {
   "cell_type": "markdown",
   "metadata": {},
   "source": [
    "#### Calculate z-star for confidence interval (given probability find z-score..)\n",
    "- $ci$: confidence interval\n",
    "- $\\alpha$: significance level\n",
    "    - $\\alpha = 1- ci$\n",
    "- $\\Phi^{-1}$: inverse of normal CDF\n",
    "<center>\n",
    "\n",
    "#### $z^{*} = \\Phi^{-1}(ci)$\n",
    "\n",
    "</center>"
   ]
  },
  {
   "cell_type": "code",
   "execution_count": 87,
   "metadata": {},
   "outputs": [
    {
     "name": "stdout",
     "output_type": "stream",
     "text": [
      "z_star: 1.9600\n"
     ]
    }
   ],
   "source": [
    "def calc_z_star(ci):\n",
    "    # this is for two-tailed test (confidence interval)\n",
    "    z_star = scipy.stats.norm.ppf((1 + ci) / 2)\n",
    "    print(f'z_star: {z_star:.4f}')\n",
    "    return z_star\n",
    "z_star = calc_z_star(0.95)"
   ]
  },
  {
   "cell_type": "markdown",
   "metadata": {},
   "source": [
    "#### Calculate $z_{score}$\n",
    "<center>\n",
    "\n",
    "#### $z_{score} = \\frac{X-\\mu}{\\sigma}$\n",
    "\n",
    "</center>\n"
   ]
  },
  {
   "cell_type": "code",
   "execution_count": null,
   "metadata": {},
   "outputs": [
    {
     "name": "stdout",
     "output_type": "stream",
     "text": [
      "z_score: -1.4599\n"
     ]
    }
   ],
   "source": [
    "# z-score calc\n",
    "# when given probability 0.7 use 70 (convert to percentage)\n",
    "def calc_z_score(value_of_interest,mean,std_dev):\n",
    "    z_score = (value_of_interest - mean) / std_dev \n",
    "    print(f'z_score: {z_score:.4f}')\n",
    "    return z_score\n",
    "\n",
    "z_score = calc_z_score(73,75,1.37)\n"
   ]
  },
  {
   "cell_type": "markdown",
   "metadata": {},
   "source": [
    "#### Calculate Probability of z-score (right tail)\n",
    "<center>\n",
    "\n",
    "#### $P(Z>z_{score}) = 1 - P(Z<z_{score})$\n",
    "\n",
    "</center>"
   ]
  },
  {
   "cell_type": "code",
   "execution_count": 88,
   "metadata": {},
   "outputs": [
    {
     "name": "stdout",
     "output_type": "stream",
     "text": [
      "p_score (right-tailed): 0.0022556767\n"
     ]
    },
    {
     "data": {
      "text/plain": [
       "np.float64(0.002255676691542363)"
      ]
     },
     "execution_count": 88,
     "metadata": {},
     "output_type": "execute_result"
    }
   ],
   "source": [
    "# calc prob(z_score) \"p-score\" using scipy\n",
    "def calc_p_score_right(z_score):\n",
    "    # this is for right-tailed test ('higher' than value_of_interest)\n",
    "    p_score = 1 - scipy.stats.norm.cdf(z_score)\n",
    "    print(f'p_score (right-tailed): {p_score:.10f}')\n",
    "    return p_score\n",
    "calc_p_score_right(2.84)"
   ]
  },
  {
   "cell_type": "markdown",
   "metadata": {},
   "source": [
    "#### Calculate Probability of z-score (left tail)\n",
    "<center>\n",
    "\n",
    "#### $P(Z<z_{score})$\n",
    "\n",
    "</center>"
   ]
  },
  {
   "cell_type": "code",
   "execution_count": null,
   "metadata": {},
   "outputs": [
    {
     "name": "stdout",
     "output_type": "stream",
     "text": [
      "p_score: 0.5189\n"
     ]
    },
    {
     "data": {
      "text/plain": [
       "np.float64(0.5189187252486893)"
      ]
     },
     "execution_count": 76,
     "metadata": {},
     "output_type": "execute_result"
    }
   ],
   "source": [
    "def calc_p_score_left(z_score):\n",
    "    # this is for left-tailed test (normal one)\n",
    "    p_score = scipy.stats.norm.cdf(z_score)\n",
    "    print(f'p_score: {p_score:.4f}')\n",
    "    return p_score\n",
    "\n",
    "calc_p_score_left(0.04744)"
   ]
  },
  {
   "cell_type": "markdown",
   "metadata": {},
   "source": [
    "#### Calculate Probability of between z-score (diff btw two left tails)\n",
    "<center>\n",
    "\n",
    "#### $P(z_{score_{1}}<Z<z_{score_{2}})$\n",
    "\n",
    "</center>"
   ]
  },
  {
   "cell_type": "code",
   "execution_count": 77,
   "metadata": {},
   "outputs": [
    {
     "name": "stdout",
     "output_type": "stream",
     "text": [
      "z_score: -1.3594\n",
      "z_score: 2.6094\n",
      "p_score: 0.0500\n",
      "p_score: 0.9500\n",
      "P(z1<Z<z2) = P(z_score(63.65) < Z < z_score(76.35)): 0.9000\n",
      "P(z1<Z<z2) = P(z_score(63.65) < Z < z_score(76.35)): 0.9000\n"
     ]
    }
   ],
   "source": [
    "score1 = 63.65\n",
    "score2 = 76.35\n",
    "z1_score = calc_z_score(score1,68,3.2)\n",
    "z2_score = calc_z_score(score2,68,3.2)\n",
    "z1_pscore = calc_p_score_left(-1.645)\n",
    "z2_pscore = calc_p_score_left(1.645)\n",
    "print(f'P(z1<Z<z2) = P(z_score({score1}) < Z < z_score({score2})): {z2_pscore - z1_pscore:.4f}')\n",
    "print(f'P(z1<Z<z2) = P(z_score({score1}) < Z < z_score({score2})): {z2_pscore - z1_pscore:.4f}')"
   ]
  },
  {
   "cell_type": "markdown",
   "metadata": {},
   "source": [
    "#### Calculate Probability of between z-score (sum for two right tails)\n",
    "<center>\n",
    "\n",
    "#### $P(z_{score_{1}}>Z<z_{score_{2}}) = P(z_{score_{1}}>Z) or P(z_{score_{2}}>Z) = P(z_{score_{1}}>Z) + P(z_{score_{2}}>Z)$\n",
    "\n",
    "</center>"
   ]
  },
  {
   "cell_type": "code",
   "execution_count": null,
   "metadata": {},
   "outputs": [
    {
     "name": "stdout",
     "output_type": "stream",
     "text": [
      "z_score: -1.3594\n",
      "z_score: 2.6094\n",
      "p_score (right-tailed): 0.9130\n",
      "p_score (right-tailed): 0.0045\n",
      "P(z1>Z<z2) = P(z_score(63.65) > Z < z_score(76.35)): -0.9085\n"
     ]
    }
   ],
   "source": [
    "# prob of population scoring lower than score1 and higher than score2\n",
    "score1 = 63.65\n",
    "score2 = 76.35\n",
    "z1_score = calc_z_score(score1,68,3.2)\n",
    "z2_score = calc_z_score(score2,68,3.2)\n",
    "z1_pscore = calc_p_score_right(z1_score)\n",
    "z2_pscore = calc_p_score_right(z2_score)\n",
    "print(f'P(z1>Z<z2) = P(z_score({score1}) > Z < z_score({score2})): {z2_pscore  z1_pscore:.4f}')"
   ]
  },
  {
   "cell_type": "markdown",
   "metadata": {},
   "source": [
    "#### Calculate z-star for confidence interval (given probability find z-score..)\n",
    "- $ci$: confidence interval\n",
    "- $\\alpha$: significance level\n",
    "    - $\\alpha = 1- ci$\n",
    "- $\\Phi^{-1}$: inverse of normal CDF\n",
    "<center>\n",
    "\n",
    "#### $z^{*} = \\Phi^{-1}(ci)$\n",
    "\n",
    "</center>"
   ]
  },
  {
   "cell_type": "code",
   "execution_count": 75,
   "metadata": {},
   "outputs": [
    {
     "name": "stdout",
     "output_type": "stream",
     "text": [
      "z_star: 1.6449\n"
     ]
    }
   ],
   "source": [
    "def calc_z_star(ci):\n",
    "    # this is for two-tailed test (confidence interval)\n",
    "    z_star = scipy.stats.norm.ppf((1 + ci) / 2)\n",
    "    print(f'z_star: {z_star:.4f}')\n",
    "    return z_star\n",
    "z_star = calc_z_star(0.90)"
   ]
  },
  {
   "cell_type": "markdown",
   "metadata": {},
   "source": [
    "### Module 6\n",
    "*Hypothesis testing*\n",
    "1. id $\\hat{p}$ , $n$ , $\\alpha$\n",
    "2. check CLT conditions\n",
    "    - $n \\hat{p} \\geq 10$\n",
    "    - $n (1- \\hat{p}) \\geq 10 $\n",
    "3. if CLT conditions met then calc SE(using $p_{0}$) and p-value\n",
    "4. Compare p-value to $\\alpha$ (significance level) and make conclusions\n",
    "    - $p_{value} > \\alpha$: we fail to reject the null hypothesis.\n",
    "    - $p_{value} < \\alpha$: we reject the null hypothesis. that means there exists statistically significant evidence to support the alternative hypothesis\n",
    "    - alternative hypothesis is what we want to know\n"
   ]
  },
  {
   "cell_type": "markdown",
   "metadata": {},
   "source": [
    "### Module 7\n",
    "*Hypothesis testing for difference of two proportions, general difference of two proportions*\n",
    "- equations change a bit general difference of two proportions\n",
    "    - $\\hat{p_{t}}-\\hat{p_{c}}$: sample proportion is now sample difference\n",
    "        - t: treatment\n",
    "        - c: control\n",
    "        \n",
    "    - $SE = \\sqrt{\\frac{\\hat{p_{t}}(1-\\hat{p_{t}})}{n_{t}}+\\frac{\\hat{p_{c}}(1-\\hat{p_{c}})}{n_{c}}}$\n",
    "\n",
    "    - $CI = (\\hat{p_{t}}-\\hat{p_{c}}-z^{*}SE,\\hat{p_{t}} + \\hat{p_{c}}-z^{*}SE)$ $\\ni$ $z^{*}SE = MOE$\n",
    "\n",
    "- equations change a bit when Hypothesis testing for difference of two proportions\n",
    "\n",
    "    - $\\hat{p_{pooled}} = \\frac{n_{1}\\hat{p_{1}}+n_{2}\\hat{p_{2}}}{n_{1}+n_{2}}$\n",
    "\n",
    "    - $SE = \\sqrt{\\frac{\\hat{p_{pooled}}(1-\\hat{p_{pooled}})}{n_{1}}+\\frac{\\hat{p_{pooled}}(1-\\hat{p_{pooled}})}{n_{2}}}$\n",
    "\n",
    "    - $z_{score} = \\frac{\\hat{p}_{1}-\\hat{p}_{2}}{SE_{pooled}}$\n",
    "- when solving for $z^{*}$ use the prob. btw two left tails,$z_{1} = -z^{*}$ & $z_{2} = -z^{*} $"
   ]
  },
  {
   "cell_type": "markdown",
   "metadata": {},
   "source": [
    "#### Mod 7: Calc SE for diff of two proportions\n",
    "$SE = \\sqrt{\\frac{\\hat{p_{t}}(1-\\hat{p_{t}})}{n_{t}}+\\frac{\\hat{p_{c}}(1-\\hat{p_{c}})}{n_{c}}}$"
   ]
  },
  {
   "cell_type": "code",
   "execution_count": null,
   "metadata": {},
   "outputs": [],
   "source": [
    "Calc SE for diff of two proportions"
   ]
  },
  {
   "cell_type": "markdown",
   "metadata": {},
   "source": [
    "#### Mod7: Calc CI for diff of two proportions"
   ]
  },
  {
   "cell_type": "code",
   "execution_count": null,
   "metadata": {},
   "outputs": [],
   "source": [
    "# Calc CI for diff of two proportions"
   ]
  },
  {
   "cell_type": "markdown",
   "metadata": {},
   "source": [
    "### Module 8 \n",
    "*chi-squared distribution*\n",
    "- check conditions\n",
    "    - independence: are you sure the samples are randos\n",
    "    - each $E_{k}$ must have at least 5 counts\n",
    "- $\\chi^{2} test statistic$ is what $z_{score}$ is for normal distributions or when CLT applies.\n",
    "\n"
   ]
  },
  {
   "cell_type": "markdown",
   "metadata": {},
   "source": [
    "#### Calculate test statistics and p-value for $\\chi^{2}$\n",
    "**$\\chi^{2} test statistic$**\n",
    "<center>\n",
    "\n",
    "$\\chi^{2} = \\displaystyle\\sum_{i=1}^k \\frac{(O_{i}-E_{i})^{2}}{E_{i}} = \\frac{(O_{1}-E_{1})^{2}}{E_{1}}+\\frac{(O_{2}-E_{2})^{2}}{E_{2}}+...+\\frac{(O_{k}-E_{k})^{2}}{E_{k}}$\n",
    "\n",
    "</center>\n",
    "\n",
    "**$\\chi^{2} p-value$**\n",
    "<center>\n",
    "\n",
    "$ p_{value_{\\chi^{2}}}= P(\\Chi^{2}\\geq\\chi^{2})$\n",
    "\n",
    "</center>"
   ]
  },
  {
   "cell_type": "code",
   "execution_count": 90,
   "metadata": {},
   "outputs": [
    {
     "name": "stdout",
     "output_type": "stream",
     "text": [
      "Power_divergenceResult(statistic=np.float64(3.26), pvalue=np.float64(0.6599710071642754))\n",
      "chi_stat: 3.2600 = (98 - 100.0)^2 / 100.0 + (104 - 100.0)^2 / 100.0 + (93 - 100.0)^2 / 100.0 + (110 - 100.0)^2 / 100.0 + (89 - 100.0)^2 / 100.0 + (106 - 100.0)^2 / 100.0\n"
     ]
    },
    {
     "data": {
      "text/plain": [
       "np.float64(3.26)"
      ]
     },
     "execution_count": 90,
     "metadata": {},
     "output_type": "execute_result"
    }
   ],
   "source": [
    "# calc chi-squared stats\n",
    "# prob for p1, p2, p3\n",
    "probs = np.array([1/6,1/6,1/6,1/6,1/6,1/6])\n",
    "# observed counts for p1, p2, p3\n",
    "O = [98,104,93,110,89,106]\n",
    "# expected counts for p1, p2, p3 -> prob * total observations\n",
    "E = probs*sum(np.array(O))\n",
    "# reality check\n",
    "print(scipy.stats.chisquare(O,E))\n",
    "\n",
    "def step_by_step_chi_statistic(obs,expected):\n",
    "    chi_stat = 0\n",
    "    chi_str = ''\n",
    "    for o, e in zip(obs, expected):\n",
    "        chi_stat += (o - e) ** 2 / e\n",
    "        chi_str += f'({o} - {e})^2 / {e} + '\n",
    "    chi_str = chi_str[:-3]\n",
    "    print(f'chi_stat: {chi_stat:.4f} = {chi_str}')\n",
    "    return chi_stat\n",
    "step_by_step_chi_statistic(O,E)"
   ]
  },
  {
   "cell_type": "markdown",
   "metadata": {},
   "source": [
    "#### Calculate p-value range for $\\chi^{2}$\n",
    "- minimize distance between two significance levels $\\alpha_{lower}$ and $\\alpha_{upper}$"
   ]
  },
  {
   "cell_type": "code",
   "execution_count": 91,
   "metadata": {},
   "outputs": [
    {
     "name": "stdout",
     "output_type": "stream",
     "text": [
      "P(χ²₁₀ ≥ 16.536) ∈ (0.05, 0.1)\n",
      "P(χ²₃ ≥ 8.2) ∈ (0.025, 0.05)\n",
      "exact p value for a is 0.6599710071642754\n"
     ]
    }
   ],
   "source": [
    "# calc p-value range for chi squared\n",
    "\n",
    "def chi2_p_value_range(chi2_stat, df):\n",
    "    \"\"\"\n",
    "    Finds the p-value range for a chi-square statistic using scipy.stats.\n",
    "\n",
    "    Args:\n",
    "        chi2_stat (float): The chi-square statistic.\n",
    "        df (int): Degrees of freedom.\n",
    "\n",
    "    Returns:\n",
    "        tuple: A tuple containing the lower and upper bounds of the p-value range.\n",
    "    \"\"\"\n",
    "\n",
    "    # Create a list of common alpha levels (p-values)\n",
    "    alpha_levels = [0.10, 0.05, 0.025, 0.01, 0.005, 0.001]\n",
    "\n",
    "    # Initialize the p-value range to None\n",
    "    p_range = None\n",
    "    min_diff = float('inf')  # Initialize with positive infinity\n",
    "\n",
    "    for i in range(len(alpha_levels) - 1):\n",
    "        upper_alpha = alpha_levels[i]\n",
    "        lower_alpha = alpha_levels[i + 1]\n",
    "\n",
    "        upper_chi2 = scipy.stats.chi2.ppf(1 - upper_alpha, df)\n",
    "        lower_chi2 = scipy.stats.chi2.ppf(1 - lower_alpha, df)\n",
    "\n",
    "        if lower_chi2 >= chi2_stat >= upper_chi2:\n",
    "            diff_lower = abs(lower_chi2 - chi2_stat)\n",
    "            diff_upper = abs(upper_chi2 - chi2_stat)\n",
    "\n",
    "            if diff_lower + diff_upper < min_diff:\n",
    "                min_diff = diff_lower + diff_upper\n",
    "                p_range = (lower_alpha, upper_alpha)\n",
    "    \n",
    "    return p_range\n",
    "\n",
    "# Example usage:\n",
    "chi2_stat_a = 16.536\n",
    "df_a = 10\n",
    "p_range_a = chi2_p_value_range(chi2_stat_a, df_a)\n",
    "print(f\"P(χ²₁₀ ≥ {chi2_stat_a}) ∈ {p_range_a}\")\n",
    "\n",
    "chi2_stat_b = 8.20\n",
    "df_b = 3\n",
    "p_range_b = chi2_p_value_range(chi2_stat_b, df_b)\n",
    "print(f\"P(χ²₃ ≥ {chi2_stat_b}) ∈ {p_range_b}\")\n",
    "\n",
    "#Example of finding the exact p-value\n",
    "exact_p_a = 1-scipy.stats.chi2.cdf(3.26, 5)\n",
    "exact_p_b = 1-scipy.stats.chi2.cdf(chi2_stat_b, df_b)\n",
    "print(f\"exact p value for a is {exact_p_a}\")\n",
    "#print(f\"exact p value for b is {exact_p_b}\")"
   ]
  },
  {
   "cell_type": "markdown",
   "metadata": {},
   "source": [
    "### Module 9: t-distribution, statistical power\n",
    "- standard error for categorical data\n",
    "    - ##### $SE_{\\bar{x}} = \\frac{\\sigma}{\\sqrt{n}}\\approx \\frac{s}{\\sqrt{n}}$\n",
    "        - $s$: sample standard deviation\n",
    "        - $n$: sample size\n",
    "- t-distribution is always centered at 0\n",
    "- degrees of freedom in general\n",
    "    - $df =n -1$\n",
    "    - as df increases the t-distribution becomes normal distribution\n",
    "- should be $n>30$ but if all observations are with in 2.5 then probably okay\n",
    "- stat power: more power then hypothesis test will correctly reject null hypothesis\n",
    "- $power = 1 - P(type II error)$\n"
   ]
  },
  {
   "cell_type": "code",
   "execution_count": null,
   "metadata": {},
   "outputs": [],
   "source": []
  },
  {
   "cell_type": "code",
   "execution_count": null,
   "metadata": {},
   "outputs": [
    {
     "name": "stdout",
     "output_type": "stream",
     "text": [
      "P(χ²₁₀ ≥ 16.536) ∈ (0.05, 0.1)\n",
      "P(χ²₃ ≥ 8.2) ∈ (0.025, 0.05)\n",
      "exact p value for a is 0.08528259830891449\n",
      "exact p value for b is 0.0420541828949661\n"
     ]
    }
   ],
   "source": []
  },
  {
   "cell_type": "markdown",
   "metadata": {},
   "source": [
    "### Calculate standard error of sample\n",
    "- $SE$: standard error\n",
    "- $\\sigma_{s}$: sample standard deviation\n",
    "- $n$: sample size\n",
    "<center>\n",
    "\n",
    "### $SE = \\frac{\\sigma_{s}}{\\sqrt{n}}$\n",
    "\n",
    "</center>"
   ]
  },
  {
   "cell_type": "code",
   "execution_count": 19,
   "metadata": {},
   "outputs": [
    {
     "name": "stdout",
     "output_type": "stream",
     "text": [
      "std_error: 0.6647\n"
     ]
    }
   ],
   "source": [
    "def calc_std_error(std_dev, n):\n",
    "    std_error = std_dev / (n ** 0.5)\n",
    "    print(f'std_error: {std_error:.4f}')\n",
    "    return std_error\n",
    "std_dev = 4.7\n",
    "sample_size = 50\n",
    "std_error = calc_std_error(std_dev, sample_size)"
   ]
  },
  {
   "cell_type": "markdown",
   "metadata": {},
   "source": [
    "### Calculate test statistic (use when given a sample and trying to understand population)\n",
    "- $t_{value}$: test statistic \n",
    "- $\\bar{x}$: sample mean\n",
    "- $\\mu_{0}$: population mean\n",
    "- $SE$: standard error\n",
    "    - $\\sigma_{s}$: sample standard deviation\n",
    "    - $n$: sample size\n",
    "    - $SE = \\frac{\\sigma_{s}}{\\sqrt{n}}$\n",
    "<center>\n",
    "\n",
    "### $t_{value} = \\frac{\\bar{x}-\\mu_{0}}{SE}$\n",
    "\n",
    "</center>"
   ]
  },
  {
   "cell_type": "code",
   "execution_count": 20,
   "metadata": {},
   "outputs": [
    {
     "name": "stdout",
     "output_type": "stream",
     "text": [
      "Test Statistic: 1.6549\n"
     ]
    }
   ],
   "source": [
    "def calc_test_statistic(sample_mean, population_mean, std_dev, n):\n",
    "    test_statistic = (sample_mean - population_mean) / (std_dev / (n ** 0.5))\n",
    "    print(f'Test Statistic: {test_statistic:.4f}')\n",
    "    return test_statistic\n",
    "sample_mean = 27\n",
    "population_mean = 25.9\n",
    "std_dev = 4.7\n",
    "sample_size = 50\n",
    "test_statistic = calc_test_statistic(sample_mean,population_mean, std_dev, sample_size)"
   ]
  },
  {
   "cell_type": "markdown",
   "metadata": {},
   "source": [
    "### Calculate $p_{value}$ given test statistic (right tail)\n",
    "- $H_{A}: \\mu >$ number of interest\n",
    "- $T$: test statistic\n",
    "- $df$: degrees of freedom\n",
    "    - $n$: sample size\n",
    "    - $df = n-1$\n",
    "<center>\n",
    "\n",
    "### $p_{value} = P(T_{df}>t)$\n",
    "\n",
    "</center>"
   ]
  },
  {
   "cell_type": "code",
   "execution_count": 27,
   "metadata": {},
   "outputs": [
    {
     "name": "stdout",
     "output_type": "stream",
     "text": [
      "p-value: 0.0522\n"
     ]
    }
   ],
   "source": [
    "def calc_p_value_from_t_value_right_tail(test_statistic,df):\n",
    "    p_value = 1 - scipy.stats.t.cdf(test_statistic,df)\n",
    "    print(f'p-value: {p_value:.4f}')\n",
    "    return p_value\n",
    "\n",
    "df = 49\n",
    "test_statistic = 1.655\n",
    "calc_p_value_from_t_value_right_tail = calc_p_value_from_t_value_right_tail(test_statistic,df)\n",
    "\n"
   ]
  },
  {
   "cell_type": "markdown",
   "metadata": {},
   "source": [
    "### Calculate $p_{value}$ given test statistic (left tail)\n",
    "- $H_{A}: \\mu <$ number of interest\n",
    "- $T$: test statistic\n",
    "- $df$: degrees of freedom\n",
    "    - $n$: sample size\n",
    "    - $df = n-1$\n",
    "<center>\n",
    "\n",
    "### $p_{value} = P(T_{df}<t)$\n",
    "\n",
    "</center>"
   ]
  },
  {
   "cell_type": "code",
   "execution_count": null,
   "metadata": {},
   "outputs": [],
   "source": [
    "def calc_p_value_from_t_value_right_tail(test_statistic,df):\n",
    "    p_value = scipy.stats.t.cdf(test_statistic,df)\n",
    "    print(f'p-value: {p_value:.4f}')\n",
    "    return p_value\n",
    "\n",
    "test_statistic = 1.49\n",
    "df = 49\n",
    "calc_p_value_from_t_value_right_tail = calc_p_value_from_t_value_right_tail(test_statistic)"
   ]
  },
  {
   "cell_type": "markdown",
   "metadata": {},
   "source": [
    "### Calculate $p_{value}$ given test statistic (two tail)\n",
    "- $H_{A}: \\mu \\neq$ number of interest\n",
    "- $T$: test statistic\n",
    "- $df$: degrees of freedom\n",
    "    - $n$: sample size\n",
    "    - $df = n-1$\n",
    "<center>\n",
    "\n",
    "#### $p_{value} = P(|T_{df}|>t)$\n",
    "\n",
    "</center>"
   ]
  },
  {
   "cell_type": "code",
   "execution_count": 24,
   "metadata": {},
   "outputs": [
    {
     "name": "stdout",
     "output_type": "stream",
     "text": [
      "p-value: 0.1426\n"
     ]
    }
   ],
   "source": [
    "def calc_p_value_from_t_value_two_tail(test_statistic,df):\n",
    "    p_value = 2 * (1 - scipy.stats.t.cdf(abs(test_statistic),df))\n",
    "    print(f'p-value: {p_value:.4f}')\n",
    "    return p_value\n",
    "\n",
    "test_statistic = 1.49\n",
    "df = 49\n",
    "p_value_from_t_value_two_tail = calc_p_value_from_t_value_two_tail(test_statistic,df)"
   ]
  },
  {
   "cell_type": "markdown",
   "metadata": {},
   "source": [
    "## Module 10\n",
    "*ANOVA, Mean Squared Error (MSE), Mean Squared between Groups(MSG), F-ratio, *"
   ]
  },
  {
   "cell_type": "markdown",
   "metadata": {},
   "source": [
    "### Calculate degrees of freedom for Mean Squared Error (MSE)\n",
    "- $n$: total sample size\n",
    "- $k$: total number of groups\n",
    "<center>\n",
    "\n",
    "$df_{MSE} = n - k$\n",
    "\n",
    "</center>"
   ]
  },
  {
   "cell_type": "code",
   "execution_count": null,
   "metadata": {},
   "outputs": [],
   "source": [
    "n = 15\n",
    "k = 3\n",
    "df_mse = n - k\n",
    "print(f'df_mse: {df_mse}')"
   ]
  },
  {
   "cell_type": "markdown",
   "metadata": {},
   "source": [
    "### Calculate degrees of freedom for Mean Squared between Groups (MSG)\n",
    "- $n$: total sample size\n",
    "- $k$: total number of groups\n",
    "<center>\n",
    "\n",
    "$df_{MSG} = k - 1$\n",
    "\n",
    "</center>"
   ]
  },
  {
   "cell_type": "code",
   "execution_count": null,
   "metadata": {},
   "outputs": [],
   "source": [
    "k = 3\n",
    "df_msg = k - 1\n",
    "print(f'df_msg: {df_msg}')"
   ]
  },
  {
   "cell_type": "markdown",
   "metadata": {},
   "source": [
    "#### Calculate Mean Squared between Groups (MSG)\n",
    "- $k$: number of groups\n",
    "- $n_{i}$: number of elements/observations in $i^{th}$ group\n",
    "- $\\bar{x_{i}}$: average for $i^{th}$ group\n",
    "- $\\bar{x}$: average for all groups\n",
    "<center>\n",
    "\n",
    "$$\n",
    "MSG = \\frac{1}{k-1}\\displaystyle\\sum_{i=1}^k n_{i}(\\bar{x_{i}}-\\bar{x})^{2} = \\frac{1}{k-1}\\left[n_{1}(\\bar{x_{1}}-\\bar{x})^{2} +  n_{2}(\\bar{x_{2}}-\\bar{x})^{2} + ... + n_{k}(\\bar{x_{k}}-\\bar{x})^{2}\\right]\n",
    "$$\n",
    "\n",
    "</center>"
   ]
  },
  {
   "cell_type": "code",
   "execution_count": 92,
   "metadata": {},
   "outputs": [
    {
     "name": "stdout",
     "output_type": "stream",
     "text": [
      "g1_avg = 822/5 = 164.4000\n",
      "g2_avg = 807/5 = 161.4000\n",
      "g3_avg = 824/5 = 164.8000\n",
      "pop_avg = 2453/15 = 163.5333\n",
      "\n",
      "msg_str:(1/3-1)*((5 * (164.40 - 163.53)^2) + (5 * (161.40 - 163.53)^2) + (5 * (164.80 - 163.53)^2))\n",
      "msg: (1/2)*34.5333\n",
      "msg: 17.2667\n"
     ]
    }
   ],
   "source": [
    "k = 3\n",
    "sample = {'g1': [170,164,158,156,174], \n",
    "          'g2': [157,166,160,171,153], \n",
    "          'g3': [153,164,168,176,163]}\n",
    "\n",
    "def calc_means(sample):\n",
    "    means = {}\n",
    "    for group, values in sample.items():\n",
    "        means[group] = (len(values),sum(values) / len(values))\n",
    "        print(f'{group}_avg = {sum(values)}/{len(values)} = {sum(values) / len(values):.4f}')\n",
    "    \n",
    "    pop = [i for j in sample.values() for i in j]\n",
    "    means['pop'] = sum(pop)/len(pop)\n",
    "    print(f'pop_avg = {sum(pop)}/{len(pop)} = {sum(pop) / len(pop):.4f}'+'\\n')\n",
    "    return means\n",
    "means = calc_means(sample)\n",
    "\n",
    "def calc_msg(means,k):\n",
    "    msg = 0\n",
    "    msg_str = ''\n",
    "    for group, values in means.items():\n",
    "        if group != 'pop':\n",
    "            msg += values[0] * ((values[1] - means['pop']) ** 2)\n",
    "            msg_str += f'({values[0]} * ({values[1]:.2f} - {means[\"pop\"]:.2f})^2) + '\n",
    "    msg_str = msg_str[:-3]\n",
    "    print(f'msg_str:(1/{k}-1)*({msg_str})')\n",
    "    print(f'msg: (1/{k-1})*{msg:.4f}')\n",
    "    msg = (1/(k-1)) * msg\n",
    "    print(f'msg: {msg:.4f}')\n",
    "    return msg\n",
    "\n",
    "MSG = calc_msg(means,k)"
   ]
  },
  {
   "cell_type": "markdown",
   "metadata": {},
   "source": [
    "#### Calculate Mean Squared Error (MSE)\n",
    "- $k$: number of groups\n",
    "- $n_{i}$: number of elements/observations in $i^{th}$ group\n",
    "- $\\bar{x_{i}}$: average for $i^{th}$ group\n",
    "- $\\bar{x}$: average for all groups\n",
    "<center>\n",
    "\n",
    "$$\n",
    "MSE = \\frac{1}{n-k}\\left(\\displaystyle\\sum_{i=1}^n \\left(x_{i}-\\bar{x}\\right)^{2} - \\displaystyle\\sum_{i=1}^k n_{i}\\left(\\bar{x_{i}}-\\bar{x}\\right)^{2} \\right) \n",
    "$$\n",
    "$$\n",
    "MSE = \\frac{1}{n-k}\\left(\\displaystyle\\sum_{i=1}^n \\left(x_{i}-\\bar{x}\\right)^{2} - \\left[(k-1)\\times MSG\\right] \\right) \n",
    "$$\n",
    "\n",
    "$$\n",
    "MSE= \\frac{1}{n-k}\\left((x_{1}-\\bar{x})^{2} +  (x_{2}-\\bar{x})^{2} + ... + (x_{k}-\\bar{x})^{2}- \\left[(k-1)\\times MSG\\right] \\right)\n",
    "$$\n",
    "\n",
    "</center>"
   ]
  },
  {
   "cell_type": "code",
   "execution_count": 93,
   "metadata": {},
   "outputs": [
    {
     "name": "stdout",
     "output_type": "stream",
     "text": [
      "1/12 * [753.7335 - 34.53333333333341]\n",
      "MSE: 59.9333\n"
     ]
    }
   ],
   "source": [
    "n = 15\n",
    "k = 3\n",
    "pop_mean=163.53\n",
    "#MSG = 39.042\n",
    "obs = [i for j in sample.values() for i in j]\n",
    "obs_and_means = [(i,pop_mean) for i in obs]\n",
    "def calc_mse(obs_and_means,MSG,k,n):\n",
    "    frac = 1/(n-k)\n",
    "    pt_1 = sum((i - pop_mean) ** 2 for i, pop_mean in obs_and_means)\n",
    "    pt_2 = (k-1) * MSG\n",
    "    print(f'1/{n-k} * [{pt_1} - {pt_2}]')\n",
    "    mse = frac * (pt_1 - pt_2)\n",
    "    print(f'MSE: {mse:.4f}')\n",
    "    return mse\n",
    "MSE = calc_mse(obs_and_means,MSG,k,n)"
   ]
  },
  {
   "cell_type": "markdown",
   "metadata": {},
   "source": [
    "### Calculate F-ratio\n",
    "<center>\n",
    "\n",
    "$F_{ratio} = \\frac{MSG}{MSE}$\n",
    "\n",
    "</center>"
   ]
  },
  {
   "cell_type": "code",
   "execution_count": 94,
   "metadata": {},
   "outputs": [
    {
     "name": "stdout",
     "output_type": "stream",
     "text": [
      "f_ratio = 17.2667/59.9333\n",
      "f_ratio = 0.2881\n"
     ]
    }
   ],
   "source": [
    "print(f'f_ratio = {MSG:.4f}/{MSE:.4f}')\n",
    "print(f'f_ratio = {MSG/MSE:.4f}')"
   ]
  },
  {
   "cell_type": "markdown",
   "metadata": {},
   "source": [
    "#### Calculate p-value given F-ratio\n",
    "<center>\n",
    "\n",
    "#### $P(F\\geq F_{ratio})$\n",
    "\n",
    "</center>"
   ]
  },
  {
   "cell_type": "code",
   "execution_count": 96,
   "metadata": {},
   "outputs": [
    {
     "name": "stdout",
     "output_type": "stream",
     "text": [
      "p_score (F-ratio): 0.7547\n"
     ]
    }
   ],
   "source": [
    "# replace with R code pf(1.439, 2, 12, lower.tail = FALSE) in mod 10\n",
    "def calculate_p_value_f_ratio(f_ratio, df_msg, df_mse):\n",
    "    p_score = 1 - scipy.stats.f.cdf(f_ratio, df_msg, df_mse)\n",
    "    print(f'p_score (F-ratio): {p_score:.4f}')\n",
    "    return p_score\n",
    "# total sample size\n",
    "n = 15\n",
    "# number of groups\n",
    "k = 3\n",
    "f_ratio = MSG / MSE\n",
    "# group degrees of freedom\n",
    "df_msg = k - 1\n",
    "# error degrees of freedom\n",
    "df_mse= n - k\n",
    "p_value_f_ratio = calculate_p_value_f_ratio(f_ratio, df_msg, df_mse)"
   ]
  },
  {
   "cell_type": "markdown",
   "metadata": {},
   "source": [
    "$p_{value} > \\alpha$: we fail to reject the null hypothesis.\n",
    "\n",
    "$p_{value} < \\alpha$: we reject the null hypothesis. "
   ]
  },
  {
   "cell_type": "markdown",
   "metadata": {},
   "source": [
    "#### Bonferroni Correction\n",
    "- uses more conservative significance level ($\\alpha$) since it reduces probability of making Type I error because of conducting multiple hypothesis tests.\n",
    "\n",
    "<center>\n",
    "\n",
    "$\\alpha^{*} = \\frac{\\alpha}{K} \\ni K = \\frac{k(k-1)}{2}$\n",
    "\n",
    "</center>"
   ]
  },
  {
   "cell_type": "markdown",
   "metadata": {},
   "source": [
    "#### Types of Error\n",
    "- Type I Error: reject null hypothesis when null is true\n",
    "    - $P(Type I) = \\alpha$\n",
    "- Type II Error: failing to reject null hypothesis when the null hypothesis is false\n",
    "    - Inverse relationship with Type I \n",
    "        - $P(Type I)$ $\\alpha$ $P^{-1}(Type II)$"
   ]
  }
 ],
 "metadata": {
  "kernelspec": {
   "display_name": "ucsd",
   "language": "python",
   "name": "python3"
  },
  "language_info": {
   "codemirror_mode": {
    "name": "ipython",
    "version": 3
   },
   "file_extension": ".py",
   "mimetype": "text/x-python",
   "name": "python",
   "nbconvert_exporter": "python",
   "pygments_lexer": "ipython3",
   "version": "3.12.3"
  }
 },
 "nbformat": 4,
 "nbformat_minor": 2
}
